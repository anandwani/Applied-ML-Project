{
  "cells": [
    {
      "cell_type": "code",
      "execution_count": null,
      "metadata": {
        "colab": {
          "base_uri": "https://localhost:8080/"
        },
        "id": "48-qie6bTeMR",
        "outputId": "3e2c5940-9865-4897-8107-9d9ce26f1193"
      },
      "outputs": [
        {
          "output_type": "stream",
          "name": "stdout",
          "text": [
            "Mounted at /content/gdrive\n"
          ]
        }
      ],
      "source": [
        "from google.colab import drive\n",
        "import pandas as pd\n",
        "\n",
        "drive.mount('/content/gdrive', force_remount = True)\n",
        "path = 'gdrive/My Drive/AML/feature_selected.csv'\n",
        "df = pd.read_csv(path)"
      ]
    },
    {
      "cell_type": "code",
      "execution_count": null,
      "metadata": {
        "colab": {
          "base_uri": "https://localhost:8080/"
        },
        "id": "XzxakWPUYch0",
        "outputId": "40b39899-90bf-409b-cd6d-3792045cb26e"
      },
      "outputs": [
        {
          "output_type": "execute_result",
          "data": {
            "text/plain": [
              "(1056242, 34)"
            ]
          },
          "metadata": {},
          "execution_count": 2
        }
      ],
      "source": [
        "df.shape"
      ]
    },
    {
      "cell_type": "code",
      "execution_count": null,
      "metadata": {
        "id": "7j33ZmpmR__d"
      },
      "outputs": [],
      "source": [
        "#remove ['last_pymnt_amnt','recoveries'] because we want to focus on the information that would be available prior to lending the loan\n",
        "#referenced other notebook on kaggle: annual_inc, issue_d, open_acc, pub_rec,  revol_bal, total_acc, initial_list_status, application_type, mort_acc, pub_rec_backrupcies\n",
        "\n",
        "#22\n",
        "nums = ['tot_cur_bal', 'annual_inc', 'revol_bal','bc_open_to_buy', \n",
        "        'loan_amnt', 'total_rec_int','mo_sin_old_rev_tl_op', 'mo_sin_old_il_acct',\n",
        "        'mths_since_recent_bc', 'revol_util', 'mo_sin_rcnt_rev_tl_op','total_rec_late_fee', \n",
        "        'dti', 'mo_sin_rcnt_tl', 'open_acc', 'int_rate',\n",
        "        'num_bc_tl', 'acc_open_past_24mths', 'num_actv_bc_tl', 'mort_acc',\n",
        "        'num_tl_op_past_12m', 'num_accts_ever_120_pd']\n",
        "\n",
        "#8\n",
        "cats = ['term', 'sub_grade', 'last_credit_pull_d', 'home_ownership',\n",
        "        'verification_status', 'zip_code', 'purpose', 'earliest_cr_line', 'loan_status']"
      ]
    },
    {
      "cell_type": "code",
      "execution_count": null,
      "metadata": {
        "id": "JAkxYoJdV2YZ"
      },
      "outputs": [],
      "source": [
        "from sklearn.compose import make_column_transformer\n",
        "from sklearn.preprocessing import OneHotEncoder\n",
        "from sklearn.preprocessing import StandardScaler\n",
        "from sklearn.preprocessing import MinMaxScaler\n",
        "from sklearn.preprocessing import OrdinalEncoder\n",
        "\n",
        "from sklearn.model_selection import train_test_split\n",
        "from sklearn.model_selection import cross_val_score\n",
        "from sklearn.pipeline import make_pipeline\n",
        "from sklearn.pipeline import Pipeline\n",
        "from sklearn.model_selection import GridSearchCV\n",
        "\n",
        "from sklearn.linear_model import LogisticRegression\n",
        "from sklearn.neural_network import MLPClassifier\n",
        "from sklearn.ensemble import AdaBoostClassifier\n",
        "\n",
        "from sklearn.metrics import recall_score\n",
        "from sklearn.metrics import precision_score\n",
        "from sklearn.metrics import roc_auc_score\n",
        "\n",
        "import seaborn as sns\n",
        "import matplotlib.pyplot as plt"
      ]
    },
    {
      "cell_type": "code",
      "execution_count": null,
      "metadata": {
        "colab": {
          "base_uri": "https://localhost:8080/"
        },
        "id": "7miiSqFjTGXn",
        "outputId": "a5637353-3b1c-4f6b-fb89-5689b512355d"
      },
      "outputs": [
        {
          "name": "stdout",
          "output_type": "stream",
          "text": [
            "X DataFrame= (1056242, 27)\n",
            "Y DataFrame= (1056242,)\n"
          ]
        }
      ],
      "source": [
        "sc = StandardScaler()\n",
        "enc = OneHotEncoder()\n",
        "\n",
        "#num features : nums\n",
        "cat_onehot = ['home_ownership', 'purpose']\n",
        "cat_ord = ['term', 'sub_grade', 'verification_status']\n",
        "\n",
        "terms_categories = [' 36 months', ' 60 months']\n",
        "sub_grade_categories = list(reversed(['A1','A2','A3','A4','A5','B1','B2','B3','B4','B5','C1','C2','C3','C4','C5','D1','D2','D3','D4','D5','E1','E2','E3','E4','E5','F1','F2','F3','F4','F5','G1','G2','G3','G4','G5']))\n",
        "verification_categories = ['Not Verified', 'Source Verified', 'Verified']\n",
        "\n",
        "\n",
        "#Choose data based on variable selected\n",
        "X = df[cat_onehot + cat_ord + nums]\n",
        "print(\"X DataFrame=\", X.shape)\n",
        "y = df['loan_status'].map({'Fully Paid': 1, 'Charged Off': 0})\n",
        "print(\"Y DataFrame=\", y.shape)\n",
        "\n",
        "X_dev, X_test, y_dev, y_test = train_test_split(X, y, stratify = y, test_size = 0.2, random_state = 42)\n",
        "X_train, X_val, y_train, y_val = train_test_split(X_dev, y_dev, stratify = y_dev, test_size = 0.2, random_state = 84)\n",
        "\n",
        "#Build transformer\n",
        "sc = StandardScaler()\n",
        "enc = OneHotEncoder()\n",
        "ord = OrdinalEncoder(categories = [terms_categories, sub_grade_categories, verification_categories])\n",
        "\n",
        "preprocess = make_column_transformer(\n",
        "    (enc, cat_onehot),\n",
        "    (ord, cat_ord),\n",
        "    (sc, nums)\n",
        ")"
      ]
    },
    {
      "cell_type": "markdown",
      "metadata": {
        "id": "CObsvLp4WgoH"
      },
      "source": [
        "1. Logistic Regression"
      ]
    },
    {
      "cell_type": "code",
      "execution_count": null,
      "metadata": {
        "id": "iCP8E2xiZCq7"
      },
      "outputs": [],
      "source": [
        "from sklearn.pipeline import Pipeline\n",
        "\n",
        "pipe = Pipeline([('preprocess', preprocess), \n",
        "                 ('classifier', LogisticRegression())])\n",
        "param_grid = {\n",
        "    'classifier__penalty': ['elasticnet'],\n",
        "    'classifier__C': [0.6, 0.8, 1, 1.2],\n",
        "    'classifier__solver': ['saga'],\n",
        "    'classifier__max_iter':[100, 150, 200],\n",
        "    'classifier__warm_start': ['True'],\n",
        "    'classifier__l1_ratio': [0.02, 0.1, 0.3]\n",
        "}\n",
        "grid_log = GridSearchCV(pipe, param_grid, cv = 3)\n",
        "grid_log.fit(X_dev, y_dev)"
      ]
    },
    {
      "cell_type": "code",
      "execution_count": null,
      "metadata": {
        "id": "h9WpfzNHAQOK"
      },
      "outputs": [],
      "source": [
        "best_estimator = grid_log.best_estimator_\n",
        "best_estimator.fit(X_dev, y_dev)\n",
        "\n",
        "print(best_estimator.score(X_dev, y_dev))\n",
        "print(best_estimator.score(X_test, y_test))\n",
        "print(recall_score(y_test, best_estimator.predict(X_test), pos_label=1))\n",
        "print(precision_score(y_test, best_estimator.predict(X_test), pos_label=1))"
      ]
    },
    {
      "cell_type": "code",
      "execution_count": null,
      "metadata": {
        "colab": {
          "base_uri": "https://localhost:8080/",
          "height": 684
        },
        "id": "74ujXWPC8-u_",
        "outputId": "b573f60c-e2b8-4937-b0e2-5f745840152c"
      },
      "outputs": [
        {
          "name": "stderr",
          "output_type": "stream",
          "text": [
            "/usr/local/lib/python3.7/dist-packages/sklearn/utils/deprecation.py:87: FutureWarning: Function get_feature_names is deprecated; get_feature_names is deprecated in 1.0 and will be removed in 1.2. Please use get_feature_names_out instead.\n",
            "  warnings.warn(msg, category=FutureWarning)\n",
            "/usr/local/lib/python3.7/dist-packages/seaborn/_decorators.py:43: FutureWarning: Pass the following variables as keyword args: x, y. From version 0.12, the only valid positional argument will be `data`, and passing other arguments without an explicit keyword will result in an error or misinterpretation.\n",
            "  FutureWarning\n"
          ]
        },
        {
          "data": {
            "image/png": "[encoded data removed]",
            "text/plain": [
              "<Figure size 1080x576 with 1 Axes>"
            ]
          },
          "metadata": {},
          "output_type": "display_data"
        }
      ],
      "source": [
        "features = list(best_estimator.named_steps['preprocess'].transformers_[0][1].get_feature_names()) + cat_ord + nums\n",
        "coefs = best_estimator.named_steps['classifier'].coef_.tolist()[0]\n",
        "plt.figure(figsize = (15, 8))\n",
        "sns.barplot(features, coefs)\n",
        "plt.xticks(rotation = 90)\n",
        "plt.show()"
      ]
    },
    {
      "cell_type": "markdown",
      "metadata": {
        "id": "a29QB6sFWmiz"
      },
      "source": [
        "2. Neural Network"
      ]
    },
    {
      "cell_type": "code",
      "execution_count": null,
      "metadata": {
        "colab": {
          "background_save": true
        },
        "id": "2tjKXdKGWrIy",
        "outputId": "6daaebd1-725b-41eb-ead9-ca2e3fac26a5"
      },
      "outputs": [
        {
          "name": "stdout",
          "output_type": "stream",
          "text": [
            "0.8284660346298727\n",
            "0.826105685707388\n"
          ]
        }
      ],
      "source": [
        "mlp = make_pipeline(preprocess, MLPClassifier())\n",
        "mlp.fit(X_dev, y_dev)\n",
        "print(mlp.score(X_dev, y_dev))\n",
        "print(mlp.score(X_test, y_test))"
      ]
    },
    {
      "cell_type": "markdown",
      "metadata": {
        "id": "2Gx4yxnBCIkJ"
      },
      "source": [
        "3. Random Forest"
      ]
    },
    {
      "cell_type": "code",
      "execution_count": null,
      "metadata": {
        "id": "tDTrciP_IfF8"
      },
      "outputs": [],
      "source": [
        "from sklearn.ensemble import RandomForestClassifier"
      ]
    },
    {
      "cell_type": "code",
      "execution_count": null,
      "metadata": {
        "id": "nyZ3x3pKCLga"
      },
      "outputs": [],
      "source": [
        "pipe_rf = make_pipeline(preprocess, RandomForestClassifier(random_state = 22))\n",
        "pipe_rf.fit(X_dev, y_dev)\n",
        "print(f'Random Forest Classifier baseline score:', pipe_rf.score(X_test, y_test))"
      ]
    },
    {
      "cell_type": "code",
      "execution_count": null,
      "metadata": {
        "id": "BMjG7QJ92002"
      },
      "outputs": [],
      "source": [
        "n_estimators = [100, 200, 300]\n",
        "max_depth = [10, 20, 30]\n",
        "\n",
        "pipe_rf = make_pipeline(preprocess, GridSearchCV(RandomForestClassifier(random_state = 100, oob_score = True), \n",
        "                                                 param_grid = [{'n_estimators': n_estimators,\n",
        "                                                                'max_depth': max_depth}],\n",
        "                                                 cv = 10))\n",
        "pipe_rf.fit(X_dev, y_dev)"
      ]
    },
    {
      "cell_type": "code",
      "execution_count": null,
      "metadata": {
        "id": "HZy31-Yl2-J_"
      },
      "outputs": [],
      "source": [
        "grid_search_results = pipe_rf.named_steps['gridsearchcv']\n",
        "print('Best score of dev data set:', grid_search_results.best_score_)\n",
        "print('Best Hyperparameters selected for Random Forest Classifier:',grid_search_results.best_params_)\n",
        "print('Test score': pipe_rf.score(X_test, y_test))\n",
        "\n",
        "y_pred = pipe_rf.predict(X_test)\n",
        "print(f'Random Forest recall:', recall_score(y_test, y_pred))\n",
        "print(f'Random Forest precision:', precision_score(y_test, y_pred))"
      ]
    },
    {
      "cell_type": "code",
      "execution_count": null,
      "metadata": {
        "id": "Za7LG-293PLH"
      },
      "outputs": [],
      "source": [
        "best_pipe_rf = make_pipeline(preprocess, \n",
        "                             RandomForestClassifier(n_estimators = 200, \n",
        "                                                    max_depth = 20,\n",
        "                                                    random_state = 100, oob_score = True))\n",
        "best_pipe_rf.fit(X_dev, y_dev)\n",
        "rf = best_pipe_rf.named_steps['randomforestclassifier']\n",
        "\n",
        "fi = zip(X.columns, rf.feature_importances_)\n",
        "features, importance = zip(*(sorted(list(filter(lambda x: x[1] != 0, fi)), key = lambda x : x[1], reverse = True)))\n",
        "ax = sns.barplot(list(features), list(importance))\n",
        "ax.tick_params(axis = 'x', rotation = 90)"
      ]
    },
    {
      "cell_type": "markdown",
      "metadata": {
        "id": "ZE2XEktMNO8a"
      },
      "source": [
        "4. XGB"
      ]
    },
    {
      "cell_type": "code",
      "execution_count": null,
      "metadata": {
        "id": "ocj68583NHnc"
      },
      "outputs": [],
      "source": [
        "from sklearn.model_selection import train_test_split\n",
        "from sklearn.preprocessing import LabelEncoder\n",
        "\n",
        "\n",
        "    \n",
        "X = df.drop(['loan_status','last_pymnt_amnt','recoveries', 'last_credit_pull_d', 'earliest_cr_line', 'zip_code'], axis = 1)\n",
        "y = df['loan_status'].map({'Fully Paid': 1, 'Charged Off': 0})\n",
        "\n",
        "# No need to scale for trees. Encoding things before the split. \n",
        "cats = X.select_dtypes(['object']).columns\n",
        "encoders = []\n",
        "for cat in cats: \n",
        "    le = LabelEncoder()\n",
        "    le.fit(df[cat])\n",
        "    X[cat] = le.transform(X[cat])\n",
        "    encoders.append(le)\n",
        "    \n",
        "X_dev, X_test, y_dev, y_test = train_test_split(X.values, y.values, stratify = y, test_size = 0.2, random_state = 42)"
      ]
    },
    {
      "cell_type": "code",
      "execution_count": null,
      "metadata": {
        "id": "vsa5tEGKOO69"
      },
      "outputs": [],
      "source": [
        "from xgboost import XGBClassifier\n",
        "from sklearn.model_selection import RandomizedSearchCV\n",
        "import numpy as np\n",
        "\n",
        "num = 10 # Number of folds/hyperparameter combinations to test\n",
        "\n",
        "max_depths = np.random.randint(2, 15, num)\n",
        "min_samples = np.random.randint(1, 100, num)\n",
        "estimators = np.random.randint(50, 150, num)\n",
        "learning_rate = [0.01,0.02,.03,.04,.05,.11,.12,.13,.14,.15]\n",
        "\n",
        "params = dict(max_depth = max_depths, min_child_weight = min_samples, n_estimators = estimators, learning_rate = learning_rate)\n",
        "xgb_models = RandomizedSearchCV(XGBClassifier(verbosity=0, silent=True, tree_method='gpu_hist', use_label_encoder=False), \n",
        "                                params, n_iter=num, random_state=42)\n",
        "xgb_models.fit(X_dev, y_dev)"
      ]
    },
    {
      "cell_type": "code",
      "execution_count": null,
      "metadata": {
        "id": "FUuKVIoOOhH_"
      },
      "outputs": [],
      "source": [
        "best_xgb_model = xgb_models.best_estimator_\n",
        "best_xgb_val_score = xgb_models.best_score_\n",
        "best_xgb_index = xgb_models.best_index_\n",
        "xgb_results = xgb_models.cv_results_['params'][best_xgb_index]\n",
        "\n",
        "print('\\nXGBClassifier\\n{}-Fold Validation:'.format(num))\n",
        "print('Best validation score: ', best_xgb_val_score) \n",
        "print('Best max depth: ', xgb_results['max_depth'])\n",
        "print('Best min samples per leaf: ', xgb_results['min_child_weight'])\n",
        "print('Best number of estimators: ', xgb_results['n_estimators'])\n",
        "print('Best learning rate: ', xgb_results['learning_rate'])\n",
        "\n",
        "'''\n",
        "XGBClassifier\n",
        "10-Fold Validation:\n",
        "Best validation score:  0.8273169120065738\n",
        "Best max depth:  13\n",
        "Best min samples per leaf:  59\n",
        "Best number of estimators:  121\n",
        "Best learning rate:  0.11\n",
        "'''"
      ]
    },
    {
      "cell_type": "code",
      "execution_count": null,
      "metadata": {
        "id": "Dq90MjyAPdlS"
      },
      "outputs": [],
      "source": [
        "from sklearn.metrics import accuracy_score\n",
        "\n",
        "preds_test = best_xgb_model.predict(X_test)\n",
        "xgb_precision = precision_score(y_test, preds_test, pos_label=1)\n",
        "xgb_recall = recall_score(y_test, preds_test, pos_label=1)\n",
        "print('XGB Precision: ', xgb_precision)\n",
        "print('XGB Recall: ', xgb_recall)\n",
        "print('XGB Accuracy: ', accuracy_score(y_test, preds_test))\n",
        "\n",
        "'''\n",
        "XGB Precision:  0.8443304849160633\n",
        "XGB Recall:  0.96480535494099\n",
        "XGB Accuracy:  0.8282169383050334\n",
        "'''"
      ]
    },
    {
      "cell_type": "code",
      "execution_count": null,
      "metadata": {
        "id": "OnXQeDeBPTzn"
      },
      "outputs": [],
      "source": [
        "importances = best_xgb_model.feature_importances_\n",
        "dic = {}\n",
        "cols = X.columns\n",
        "for k, v in enumerate(importances):\n",
        "    dic[cols[k]] = v\n",
        "\n",
        "sorted_importances = sorted(dic, key=dic.get, reverse=True)\n",
        "print('Top 3 important features: ', sorted_importances[:3])\n",
        "\n",
        "'''\n",
        "Top 3 important features:  ['total_rec_late_fee', 'sub_grade', 'term']\n",
        "'''"
      ]
    },
    {
      "cell_type": "markdown",
      "metadata": {
        "id": "3R2A8eDcLQYx"
      },
      "source": [
        "5. AdaBoost"
      ]
    },
    {
      "cell_type": "code",
      "execution_count": null,
      "metadata": {
        "id": "X0WHcfJ5X40I"
      },
      "outputs": [],
      "source": [
        "n_estimators_lst = [50, 100, 250, 500, 1000]\n",
        "learning_rate_lst = [0.1, 0.5, 1]\n",
        "val_accuracy = []\n",
        "\n",
        "for n in n_estimators_lst:\n",
        "    for l in learning_rate_lst:\n",
        "        pipe_abc = Pipeline(steps=[('preprocess', preprocess),\n",
        "                                   ('model', AdaBoostClassifier(n_estimators=n, learning_rate=l, random_state=1))])\n",
        "        pipe_abc.fit(X_train, y_train)\n",
        "        val_accuracy.append(pipe_abc.score(X_val, y_val))"
      ]
    },
    {
      "cell_type": "code",
      "execution_count": null,
      "metadata": {
        "id": "T9mf-A2zLZ7x"
      },
      "outputs": [],
      "source": [
        "best_n = n_estimators_lst[np.argmax(val_accuracy)//3]\n",
        "best_l = learning_rate_lst[np.argmax(val_accuracy)%3]\n",
        "print('best train accuracy:', np.max(val_accuracy))\n",
        "print('best n_estimators:', best_n)\n",
        "print('best learning rate:', best_l)"
      ]
    },
    {
      "cell_type": "code",
      "execution_count": null,
      "metadata": {
        "id": "fahHD4oMLcej"
      },
      "outputs": [],
      "source": [
        "pipe_abc = Pipeline(steps=[('preprocess', preprocess),\n",
        "              ('model', AdaBoostClassifier(n_estimators=best_n, learning_rate=best_l, random_state=1))])\n",
        "pipe_abc.fit(X_dev, y_dev)\n",
        "print('Test Accuracy', pipe_abc.score(X_test, y_test))\n",
        "print('Test Recall',recall_score(y_val, pipe_abc.predict(X_val), pos_label=1))"
      ]
    },
    {
      "cell_type": "code",
      "source": [
        "onehot_col = preprocess.named_transformers_['onehotencoder'].get_feature_names_out().tolist()\n",
        "ordinal_col = cat_ord\n",
        "standard_col = pipe_abc.named_steps['preprocess'].transformers_[2][2]\n",
        "feature_name = onehot_col+ordinal_col+standard_col\n",
        "\n",
        "d={}\n",
        "for i, fimp in enumerate(pipe_abc.named_steps['model'].feature_importances_):\n",
        "    d[feature_name[i]] = fimp\n",
        "\n",
        "plt.figure(figsize = (15, 8))\n",
        "sns.barplot(feature_name, pipe_abc.named_steps['model'].feature_importances_, order=sorted(d, key=d.get, reverse=True))\n",
        "plt.xticks(rotation = 90)\n",
        "plt.title('Feature Importances by AdaBoost')\n",
        "plt.show()"
      ],
      "metadata": {
        "id": "5yVnYXvg3dXQ"
      },
      "execution_count": null,
      "outputs": []
    },
    {
      "cell_type": "markdown",
      "metadata": {
        "id": "v_UgpbojN1c-"
      },
      "source": [
        "6. CATBOOST"
      ]
    },
    {
      "cell_type": "code",
      "execution_count": null,
      "metadata": {
        "colab": {
          "base_uri": "https://localhost:8080/"
        },
        "id": "qZzOicJLP8pe",
        "outputId": "f2448bb4-81a1-4fae-e031-4ce3cca8c094"
      },
      "outputs": [
        {
          "output_type": "stream",
          "name": "stdout",
          "text": [
            "Collecting catboost\n",
            "  Downloading catboost-1.0.3-cp37-none-manylinux1_x86_64.whl (76.3 MB)\n",
            "\u001b[K     |████████████████████████████████| 76.3 MB 28.4 MB/s \n",
            "\u001b[?25hRequirement already satisfied: numpy>=1.16.0 in /usr/local/lib/python3.7/dist-packages (from catboost) (1.19.5)\n",
            "Requirement already satisfied: graphviz in /usr/local/lib/python3.7/dist-packages (from catboost) (0.10.1)\n",
            "Requirement already satisfied: scipy in /usr/local/lib/python3.7/dist-packages (from catboost) (1.4.1)\n",
            "Requirement already satisfied: pandas>=0.24.0 in /usr/local/lib/python3.7/dist-packages (from catboost) (1.1.5)\n",
            "Requirement already satisfied: matplotlib in /usr/local/lib/python3.7/dist-packages (from catboost) (3.2.2)\n",
            "Requirement already satisfied: six in /usr/local/lib/python3.7/dist-packages (from catboost) (1.15.0)\n",
            "Requirement already satisfied: plotly in /usr/local/lib/python3.7/dist-packages (from catboost) (4.4.1)\n",
            "Requirement already satisfied: python-dateutil>=2.7.3 in /usr/local/lib/python3.7/dist-packages (from pandas>=0.24.0->catboost) (2.8.2)\n",
            "Requirement already satisfied: pytz>=2017.2 in /usr/local/lib/python3.7/dist-packages (from pandas>=0.24.0->catboost) (2018.9)\n",
            "Requirement already satisfied: pyparsing!=2.0.4,!=2.1.2,!=2.1.6,>=2.0.1 in /usr/local/lib/python3.7/dist-packages (from matplotlib->catboost) (3.0.6)\n",
            "Requirement already satisfied: cycler>=0.10 in /usr/local/lib/python3.7/dist-packages (from matplotlib->catboost) (0.11.0)\n",
            "Requirement already satisfied: kiwisolver>=1.0.1 in /usr/local/lib/python3.7/dist-packages (from matplotlib->catboost) (1.3.2)\n",
            "Requirement already satisfied: retrying>=1.3.3 in /usr/local/lib/python3.7/dist-packages (from plotly->catboost) (1.3.3)\n",
            "Installing collected packages: catboost\n",
            "Successfully installed catboost-1.0.3\n"
          ]
        }
      ],
      "source": [
        "pip install catboost"
      ]
    },
    {
      "cell_type": "code",
      "execution_count": null,
      "metadata": {
        "colab": {
          "base_uri": "https://localhost:8080/"
        },
        "id": "HlT0-P62P-lM",
        "outputId": "1084b24a-0569-4273-f0e0-86f0d4b2bee7"
      },
      "outputs": [
        {
          "output_type": "stream",
          "name": "stdout",
          "text": [
            "Collecting category_encoders\n",
            "  Downloading category_encoders-2.3.0-py2.py3-none-any.whl (82 kB)\n",
            "\u001b[?25l\r\u001b[K     |████                            | 10 kB 17.0 MB/s eta 0:00:01\r\u001b[K     |████████                        | 20 kB 24.2 MB/s eta 0:00:01\r\u001b[K     |████████████                    | 30 kB 29.3 MB/s eta 0:00:01\r\u001b[K     |████████████████                | 40 kB 27.7 MB/s eta 0:00:01\r\u001b[K     |████████████████████            | 51 kB 14.5 MB/s eta 0:00:01\r\u001b[K     |████████████████████████        | 61 kB 10.4 MB/s eta 0:00:01\r\u001b[K     |████████████████████████████    | 71 kB 11.4 MB/s eta 0:00:01\r\u001b[K     |███████████████████████████████▉| 81 kB 12.2 MB/s eta 0:00:01\r\u001b[K     |████████████████████████████████| 82 kB 383 kB/s \n",
            "\u001b[?25hRequirement already satisfied: scipy>=1.0.0 in /usr/local/lib/python3.7/dist-packages (from category_encoders) (1.4.1)\n",
            "Requirement already satisfied: patsy>=0.5.1 in /usr/local/lib/python3.7/dist-packages (from category_encoders) (0.5.2)\n",
            "Requirement already satisfied: numpy>=1.14.0 in /usr/local/lib/python3.7/dist-packages (from category_encoders) (1.19.5)\n",
            "Requirement already satisfied: pandas>=0.21.1 in /usr/local/lib/python3.7/dist-packages (from category_encoders) (1.1.5)\n",
            "Requirement already satisfied: scikit-learn>=0.20.0 in /usr/local/lib/python3.7/dist-packages (from category_encoders) (1.0.1)\n",
            "Requirement already satisfied: statsmodels>=0.9.0 in /usr/local/lib/python3.7/dist-packages (from category_encoders) (0.10.2)\n",
            "Requirement already satisfied: python-dateutil>=2.7.3 in /usr/local/lib/python3.7/dist-packages (from pandas>=0.21.1->category_encoders) (2.8.2)\n",
            "Requirement already satisfied: pytz>=2017.2 in /usr/local/lib/python3.7/dist-packages (from pandas>=0.21.1->category_encoders) (2018.9)\n",
            "Requirement already satisfied: six in /usr/local/lib/python3.7/dist-packages (from patsy>=0.5.1->category_encoders) (1.15.0)\n",
            "Requirement already satisfied: threadpoolctl>=2.0.0 in /usr/local/lib/python3.7/dist-packages (from scikit-learn>=0.20.0->category_encoders) (3.0.0)\n",
            "Requirement already satisfied: joblib>=0.11 in /usr/local/lib/python3.7/dist-packages (from scikit-learn>=0.20.0->category_encoders) (1.1.0)\n",
            "Installing collected packages: category-encoders\n",
            "Successfully installed category-encoders-2.3.0\n"
          ]
        }
      ],
      "source": [
        "pip install category_encoders"
      ]
    },
    {
      "cell_type": "code",
      "execution_count": null,
      "metadata": {
        "colab": {
          "base_uri": "https://localhost:8080/"
        },
        "id": "7hlJisGzQIC5",
        "outputId": "24876e7f-169d-43a7-9993-d73117f03224"
      },
      "outputs": [
        {
          "output_type": "stream",
          "name": "stderr",
          "text": [
            "/usr/local/lib/python3.7/dist-packages/statsmodels/tools/_testing.py:19: FutureWarning: pandas.util.testing is deprecated. Use the functions in the public API at pandas.testing instead.\n",
            "  import pandas.util.testing as tm\n"
          ]
        }
      ],
      "source": [
        "from catboost import CatBoostClassifier\n",
        "import category_encoders as ce"
      ]
    },
    {
      "cell_type": "code",
      "execution_count": null,
      "metadata": {
        "colab": {
          "base_uri": "https://localhost:8080/"
        },
        "id": "439W--6bN3pK",
        "outputId": "7867e7c6-80e6-473b-e74c-00c26cac4a10"
      },
      "outputs": [
        {
          "output_type": "stream",
          "name": "stdout",
          "text": [
            "(1056242, 27)\n",
            "(1056242,)\n"
          ]
        }
      ],
      "source": [
        "#22\n",
        "nums = ['tot_cur_bal', 'annual_inc', 'revol_bal','bc_open_to_buy', \n",
        "        'loan_amnt', 'total_rec_int','mo_sin_old_rev_tl_op', 'mo_sin_old_il_acct',\n",
        "        'mths_since_recent_bc', 'revol_util', 'mo_sin_rcnt_rev_tl_op','total_rec_late_fee', \n",
        "        'dti', 'mo_sin_rcnt_tl', 'open_acc', 'int_rate',\n",
        "        'num_bc_tl', 'acc_open_past_24mths', 'num_actv_bc_tl', 'mort_acc',\n",
        "        'num_tl_op_past_12m', 'num_accts_ever_120_pd']\n",
        "\n",
        "# included 5 of them\n",
        "cats = ['term', 'sub_grade', 'home_ownership',\n",
        "        'verification_status', 'purpose',]\n",
        "\n",
        "features = nums + cats \n",
        "target = [\"loan_status\"]\n",
        "\n",
        "X = df[features]\n",
        "y = df['loan_status'].map({'Fully Paid': 1, 'Charged Off': 0})\n",
        "                          \n",
        "print(X.shape)\n",
        "print(y.shape)"
      ]
    },
    {
      "cell_type": "code",
      "execution_count": null,
      "metadata": {
        "colab": {
          "base_uri": "https://localhost:8080/"
        },
        "id": "NqHJ2CUrOd5R",
        "outputId": "6067bb19-5045-474f-d2fe-a0f053035613"
      },
      "outputs": [
        {
          "output_type": "stream",
          "name": "stdout",
          "text": [
            "(844993, 27)\n",
            "(675994, 27)\n",
            "(168999, 27)\n",
            "(211249, 27)\n"
          ]
        }
      ],
      "source": [
        "X_dev, X_test, y_dev, y_test = train_test_split(X, y, stratify = y, test_size = 0.2, random_state = 42)\n",
        "X_train, X_val, y_train, y_val = train_test_split(X_dev, y_dev, stratify = y_dev, test_size = 0.2, random_state = 84)\n",
        "\n",
        "print(X_dev.shape)\n",
        "print(X_train.shape)\n",
        "print(X_val.shape)\n",
        "print(X_test.shape)"
      ]
    },
    {
      "cell_type": "code",
      "source": [
        "from catboost import CatBoostClassifier"
      ],
      "metadata": {
        "id": "vGtkWRIYjx0u"
      },
      "execution_count": null,
      "outputs": []
    },
    {
      "cell_type": "code",
      "execution_count": null,
      "metadata": {
        "colab": {
          "base_uri": "https://localhost:8080/"
        },
        "id": "qXyW-IOiOoLW",
        "outputId": "87f74cde-73af-4a03-8b4f-07eb40a2f34b"
      },
      "outputs": [
        {
          "output_type": "stream",
          "name": "stdout",
          "text": [
            "(675994, 27)\n",
            "(168999, 27)\n",
            "(211249, 27)\n"
          ]
        }
      ],
      "source": [
        "# Since CATBOOST had this extra functionality of Target Encoding, included this, so that we can explain \n",
        "# this as part of documentation that we used catboost to try out this functionality and also overfitting detection, which I\n",
        "# have included in the code\n",
        "\n",
        "cbe_encoder = ce.cat_boost.CatBoostEncoder()\n",
        "dev_cbe = cbe_encoder.fit_transform(X_dev, y_dev)\n",
        "train_cbe = cbe_encoder.fit_transform(X_train, y_train)\n",
        "val_cbe = cbe_encoder.fit_transform(X_val, y_val)\n",
        "test_cbe = cbe_encoder.transform(X_test)\n",
        "\n",
        "print(train_cbe.shape)\n",
        "print(val_cbe.shape)\n",
        "print(test_cbe.shape)"
      ]
    },
    {
      "cell_type": "code",
      "execution_count": null,
      "metadata": {
        "colab": {
          "base_uri": "https://localhost:8080/"
        },
        "id": "zYeX7P-zPFGg",
        "outputId": "ab389c11-1b53-46ac-aca5-deb1c1dbaa29"
      },
      "outputs": [
        {
          "output_type": "stream",
          "name": "stdout",
          "text": [
            "numTrees 1292 Depth= 9 borderCount= 70 learningRate= 0.11 bootstrapType= Bernoulli L2_leaf_reg= 4\n",
            "Training score= 0.8334940842670201\n",
            "Validation Score= 0.8257031106692939\n",
            "\n",
            "\n",
            "numTrees 1202 Depth= 8 borderCount= 40 learningRate= 0.03 bootstrapType= MVS L2_leaf_reg= 6\n",
            "Training score= 0.8268579306916926\n",
            "Validation Score= 0.8232711436162344\n",
            "\n",
            "\n",
            "numTrees 1119 Depth= 8 borderCount= 44 learningRate= 0.03 bootstrapType= MVS L2_leaf_reg= 5\n",
            "Training score= 0.8266168042911624\n",
            "Validation Score= 0.8234309078751946\n",
            "\n",
            "\n",
            "numTrees 1317 Depth= 10 borderCount= 77 learningRate= 0.12 bootstrapType= MVS L2_leaf_reg= 6\n",
            "Training score= 0.8320917049559612\n",
            "Validation Score= 0.823460493849076\n",
            "\n",
            "\n",
            "numTrees 1341 Depth= 7 borderCount= 63 learningRate= 0.02 bootstrapType= Bayesian L2_leaf_reg= 6\n",
            "Training score= 0.828431909158957\n",
            "Validation Score= 0.8259575500446749\n",
            "\n",
            "\n",
            "numTrees 1919 Depth= 3 borderCount= 47 learningRate= 0.04 bootstrapType= Bayesian L2_leaf_reg= 4\n",
            "Training score= 0.8257159087210834\n",
            "Validation Score= 0.8251291427759928\n",
            "\n",
            "\n",
            "numTrees 1011 Depth= 8 borderCount= 59 learningRate= 0.15 bootstrapType= Bayesian L2_leaf_reg= 5\n",
            "Training score= 0.8299970118077971\n",
            "Validation Score= 0.8258214545648199\n",
            "\n",
            "\n",
            "numTrees 2247 Depth= 9 borderCount= 77 learningRate= 0.15 bootstrapType= MVS L2_leaf_reg= 3\n",
            "Training score= 0.8290472992363838\n",
            "Validation Score= 0.8235670033550494\n",
            "\n",
            "\n",
            "numTrees 1709 Depth= 6 borderCount= 55 learningRate= 0.12 bootstrapType= MVS L2_leaf_reg= 4\n",
            "Training score= 0.8240724030094941\n",
            "Validation Score= 0.8225965834117361\n",
            "\n",
            "\n",
            "numTrees 1850 Depth= 5 borderCount= 25 learningRate= 0.14 bootstrapType= Bayesian L2_leaf_reg= 7\n",
            "Training score= 0.8289141619600174\n",
            "Validation Score= 0.8260285563819905\n",
            "\n",
            "\n"
          ]
        }
      ],
      "source": [
        "import random\n",
        "learning_rate = [0.01,0.02,.03,.04,.05,.11,.12,.13,.14,.15]\n",
        "bootstrap_type = [\"Bayesian\",\"Bernoulli\",\"MVS\"]\n",
        "count=0\n",
        "#setting count to 10 for hyperparameter-tuning \n",
        "\n",
        "while(count!=10):\n",
        "    numTrees = random.randint(1000,2500)\n",
        "    Depth = random.randint(1, 10)\n",
        "    l2Leaf_Reg = random.randint(3,7)\n",
        "    borderCount=random.randint(25,100)\n",
        "    learningRate = learning_rate[random.randint(0,9)]\n",
        "    bootstrapType = bootstrap_type[random.randint(0,2)]\n",
        "\n",
        "    model= CatBoostClassifier(random_state=42,verbose=False,\n",
        "                              num_trees=numTrees, \n",
        "                              depth=Depth, \n",
        "                              border_count=borderCount,\n",
        "                              learning_rate=learningRate, \n",
        "                              bootstrap_type=bootstrapType, \n",
        "                              l2_leaf_reg = l2Leaf_Reg,\n",
        "                              od_pval=0.001, #overfitting detector\n",
        "                              eval_metric=\"Accuracy\", #overfitting detector\n",
        "                              task_type=\"GPU\") \n",
        "\n",
        "    model.fit(train_cbe,y_train, \n",
        "              use_best_model=True, #overfitting detector\n",
        "              eval_set=(val_cbe, y_val) #overfitting detector\n",
        "              )\n",
        "    print(\"numTrees\",numTrees, \"Depth=\",Depth, \"borderCount=\",borderCount, \"learningRate=\",learningRate, \"bootstrapType=\",bootstrapType , \"L2_leaf_reg=\",l2Leaf_Reg)\n",
        "    print(\"Training score=\",model.score(train_cbe,y_train))\n",
        "    print(\"Validation Score=\",model.score(val_cbe,y_val))\n",
        "    print(\"\\n\")\n",
        "    count=count+1"
      ]
    },
    {
      "cell_type": "code",
      "execution_count": null,
      "metadata": {
        "colab": {
          "base_uri": "https://localhost:8080/"
        },
        "id": "WuUTb4RRRU8V",
        "outputId": "107b2683-d29d-4360-ac4b-33991393fc26"
      },
      "outputs": [
        {
          "output_type": "stream",
          "name": "stdout",
          "text": [
            "Training score= 0.827840187930662\n",
            "TEST Score= 0.8262287632130803\n",
            "Recall= 0.9713111385121249\n",
            "Precision: 0.8386642128904369\n"
          ]
        }
      ],
      "source": [
        "#numTrees 1524 Depth= 6 borderCount= 75 learningRate= 0.02 bootstrapType= Bernoulli L2_leaf_reg= 5\n",
        "#Training score= 0.8278564602644403\n",
        "#Validation Score= 0.8258273717595962\n",
        "\n",
        "modelTest= CatBoostClassifier(random_state=42,verbose=False,num_trees=1524, depth=6, border_count=75, l2_leaf_reg=5,\n",
        "                          learning_rate=0.02, bootstrap_type=\"Bernoulli\"\n",
        "                          ,od_pval=0.001,\n",
        "                          eval_metric=\"Accuracy\"\n",
        "                          ,task_type=\"GPU\") \n",
        "\n",
        "modelTest.fit(train_cbe,y_train, use_best_model=True , eval_set=(val_cbe, y_val),plot=False)\n",
        "print(\"Training score=\",modelTest.score(train_cbe,y_train))\n",
        "print(\"TEST Score=\",modelTest.score(test_cbe,y_test))\n",
        "print(\"Recall=\", recall_score(y_test, modelTest.predict(test_cbe), pos_label=1))\n",
        "print('Precision:', precision_score(y_test, modelTest.predict(test_cbe), pos_label=1))"
      ]
    },
    {
      "cell_type": "code",
      "execution_count": null,
      "metadata": {
        "colab": {
          "base_uri": "https://localhost:8080/",
          "height": 513
        },
        "id": "fIlvv9dsRiS6",
        "outputId": "af01f965-fbde-4f1e-c37f-dcd8b078ff84"
      },
      "outputs": [
        {
          "output_type": "display_data",
          "data": {
            "image/png": "[encoded data removed]",
            "text/plain": [
              "<Figure size 720x576 with 1 Axes>"
            ]
          },
          "metadata": {
            "needs_background": "light"
          }
        }
      ],
      "source": [
        "#Reference :- https://www.analyseup.com/python-machine-learning/catboost-python-tutorial.html\n",
        "import numpy as np\n",
        "def plot_feature_importance(importance,names,model_type):\n",
        "  #Create arrays from feature importance and feature names\n",
        "  feature_importance = np.array(importance)\n",
        "  feature_names = np.array(names)\n",
        "\n",
        "  #Create a DataFrame using a Dictionary\n",
        "  data={'feature_names':feature_names,'feature_importance':feature_importance}\n",
        "  fi_df = pd.DataFrame(data)\n",
        "\n",
        "  #Sort the DataFrame in order decreasing feature importance\n",
        "  fi_df.sort_values(by=['feature_importance'], ascending=False,inplace=True)\n",
        "\n",
        "  #Define size of bar plot\n",
        "  plt.figure(figsize=(10,8))\n",
        "  #Plot Searborn bar chart\n",
        "  sns.barplot(x=fi_df['feature_importance'], y=fi_df['feature_names'])\n",
        "  #Add chart labels\n",
        "  plt.title(model_type + ' FEATURE IMPORTANCE')\n",
        "  plt.xlabel('FEATURE IMPORTANCE')\n",
        "  plt.ylabel('FEATURE NAMES')\n",
        "plot_feature_importance(modelTest.get_feature_importance(),train_cbe.columns,'CATBOOST')"
      ]
    }
  ],
  "metadata": {
    "accelerator": "GPU",
    "colab": {
      "collapsed_sections": [],
      "name": "Notebook2_Preprocess_Models.ipynb",
      "provenance": []
    },
    "kernelspec": {
      "display_name": "Python 3",
      "name": "python3"
    },
    "language_info": {
      "name": "python"
    }
  },
  "nbformat": 4,
  "nbformat_minor": 0
}